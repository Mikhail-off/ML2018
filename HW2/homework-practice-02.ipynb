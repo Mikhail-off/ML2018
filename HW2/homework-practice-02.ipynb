{
 "cells": [
  {
   "cell_type": "markdown",
   "metadata": {},
   "source": [
    "## Машинное обучение, ФКН ВШЭ\n",
    "\n",
    "## Практическое задание 2\n",
    "\n",
    "### Общая информация\n",
    "Дата выдачи: 17.09.2018\n",
    "\n",
    "Мягкий дедлайн: 2:59MSK 24.09.2018\n",
    "\n",
    "Жесткий дедлайн: 23:59MSK 26.09.2018"
   ]
  },
  {
   "cell_type": "markdown",
   "metadata": {},
   "source": [
    "### О задании\n",
    "Задание состоит из двух частей:\n",
    "\n",
    "__Первая часть__ задания посвящена получению студентами навыков работы с библиотекой векторного вычисления numpy и библиотеками для построения графиков matplotlib/plotly. Это задание сдается частично в Яндекс.Контест (см. информацию ниже). В случае проблем с доступом к Яндекс.Контесту обращайтесь к своему семинаристу(ке).\n",
    "\n",
    "__Вторая часть__ задания посвящена обучению линейной регрессии, подбору гиперпараметров и работе с данными.\n",
    "\n",
    "\n",
    "### Оценивание и штрафы\n",
    "Каждая из задач имеет определенную «стоимость» (указана в скобках около задачи). Максимально допустимая оценка за работу — 10 баллов.\n",
    "\n",
    "Сдавать задание после указанного срока сдачи нельзя. При выставлении неполного балла за задание в связи с наличием ошибок на усмотрение проверяющего предусмотрена возможность исправить работу на указанных в ответном письме условиях.\n",
    "\n",
    "Задание выполняется самостоятельно. «Похожие» решения считаются плагиатом и все задействованные студенты (в том числе те, у кого списали) не могут получить за него больше 0 баллов (подробнее о плагиате см. на странице курса). Если вы нашли решение какого-то из заданий (или его часть) в открытом источнике, необходимо указать ссылку на этот источник в отдельном блоке в конце Вашей работы (скорее всего вы будете не единственным, кто это нашел, поэтому чтобы исключить подозрение в плагиате, необходима ссылка на источник).\n",
    "\n",
    "Неэффективная реализация кода может негативно отразиться на оценке.\n",
    "\n",
    "\n",
    "### Формат сдачи\n",
    "Ipython Notebook с выполненым заданием необходимо сдать в Anytask (lab_02). Также обратите внимание, что в первой части про Numpy также необходимо сделать две посылки в Яндекс.Контест."
   ]
  },
  {
   "cell_type": "markdown",
   "metadata": {},
   "source": [
    "# Часть 1. Numpy"
   ]
  },
  {
   "cell_type": "markdown",
   "metadata": {},
   "source": [
    "### Задачи 1-6\n",
    "__(2.4 балла)__\n",
    "\n",
    "Ниже приведены задачи на работу с numpy-массивами. Для каждой из задач нужно привести 2 реализации: одна без использования numpy (cчитайте, что там, где на входе или выходе должны быть numpy array, будут просто списки), а вторая полностью векторизованная (без использования питоновских циклов/map/list comprehension). Невекторизованная реализация каждой из задач оценивается в __0.15 балла__, векторизованная – в __0.25 балла__.\n",
    "\n",
    "Реализации без использования векторизации нужно записать в файл functions.py, а векторизованные &mdash; в файл functions_vectorized.py (см. шаблоны). Далее эти файлы необходимо сдать в Яндекс.Контест: https://official.contest.yandex.ru/contest/9148/enter/ в соответствующие задачи. По техническим причинам тестирование проводится на этапе компиляции, поэтому в случае любой ошибки вы будете получать вердикт CE, и в логе компиляции можно будет посмотреть, в чем проблема. Частичное выполнение задания (не все задачи) будет оцениваться, хотя и будет получать вердикт CE. Для удобства проверки приложите в ячейке ниже ссылки на самые успешные посылки.\n",
    "\n",
    "\n",
    "* __Задача 1__: Подсчитать произведение ненулевых элементов на диагонали прямоугольной матрицы.  \n",
    " Например, для X = np.array([[1, 0, 1], [2, 0, 2], [3, 0, 3], [4, 4, 4]]) ответ – 3.\n",
    " \n",
    " \n",
    "* __Задача 2__: Даны два вектора x и y. Проверить, задают ли они одно и то же мультимножество.  \n",
    "  Например, для x = np.array([1, 2, 2, 4]), y = np.array([4, 2, 1, 2]) ответ – True.\n",
    "  \n",
    "  \n",
    "* __Задача 3__: Найти максимальный элемент в векторе x среди элементов, перед которыми стоит нулевой.  \n",
    " Например, для x = np.array([6, 2, 0, 3, 0, 0, 5, 7, 0]) ответ – 5.\n",
    " \n",
    " \n",
    "* __ Задача 4__: Дан трёхмерный массив, содержащий изображение, размера (height, width, numChannels), а также вектор длины numChannels. Сложить каналы изображения с указанными весами, и вернуть результат в виде матрицы размера (height, width). В ноутбуке приведите пример работы функции – преобразуйте цветное изображение в оттенки серого, использовав коэффициенты np.array([0.299, 0.587, 0.114]). Считать реальное изображение можно при помощи функции scipy.misc.imread (если изображение не в формате png, установите пакет pillow). __Обратите внимание, что в изображении может быть не три канала! За решения, явно или неявно использующие трёхканальность изображения будет присуждена половина баллов.__\n",
    "\n",
    "\n",
    "* __Задача 5__: Реализовать кодирование длин серий (Run-length encoding). Для некоторого вектора x необходимо вернуть кортеж из двух векторов одинаковой длины. Первый содержит числа, а второй - сколько раз их нужно повторить.  \n",
    " Например, для x = np.array([2, 2, 2, 3, 3, 3, 5]) ответ – (np.array([2, 3, 5]), np.array([3, 3, 1])).\n",
    " \n",
    " \n",
    "* __Задача 6__: Даны две выборки объектов - X и Y. Вычислить матрицу евклидовых расстояний между объектами. Сравните с функцией scipy.spatial.distance.cdist по скорости работы (сравнения приведите ниже в ноутбуке).\n",
    "\n",
    "__Замечание.__ Можно считать, что все указанные объекты непустые (к примеру, в __задаче 1__ на диагонали матрицы есть ненулевые элементы) и корректные."
   ]
  },
  {
   "cell_type": "markdown",
   "metadata": {},
   "source": [
    "__Укажите ссылки на посылки__\n",
    "\n",
    "Посылка по $\\href{https://contest.yandex.ru/contest/9148/run-report/12053966/}{\\text{невекторизованным функциям}}$\n",
    "\n",
    "Посылка по $\\href{https://contest.yandex.ru/contest/9148/run-report/12054043/}{\\text{векторизованным функциям}}$"
   ]
  },
  {
   "cell_type": "markdown",
   "metadata": {},
   "source": [
    "### Задача 7\n",
    "__(1.6 балла)__  \n",
    "Для каждой задачи сравните скорость работы невекторизованной и векторизованной реализации. С помощью пакета matplotlib или plotly постройте графики времени работы в зависимости от размера данных. __Графики должны выглядеть опрятно!__ То есть должны быть подписаны оси, названия графиков, и т.д. Например, ниже представлены хороший и плохой графики:"
   ]
  },
  {
   "cell_type": "code",
   "execution_count": 1,
   "metadata": {},
   "outputs": [],
   "source": [
    "import functions \n",
    "import functions_vectorized\n",
    "import numpy as np\n",
    "\n",
    "functions_dict = {'vectorized': [functions_vectorized.prod_non_zero_diag,\n",
    "                                  functions_vectorized.are_multisets_equal,\n",
    "                                  functions_vectorized.max_after_zero,\n",
    "                                  functions_vectorized.convert_image,\n",
    "                                  functions_vectorized.run_length_encoding,\n",
    "                                  functions_vectorized.pairwise_distance],\n",
    "                  'not_vectorized' : [functions.prod_non_zero_diag,\n",
    "                                       functions.are_multisets_equal,\n",
    "                                       functions.max_after_zero,\n",
    "                                       functions.convert_image,\n",
    "                                       functions.run_length_encoding,\n",
    "                                       functions.pairwise_distance] }\n",
    "n_plots = len(functions_dict['vectorized'])\n",
    "data_size = np.arange(100, 1000, 100)"
   ]
  },
  {
   "cell_type": "code",
   "execution_count": 2,
   "metadata": {},
   "outputs": [],
   "source": [
    "from time import time\n",
    "\n",
    "def compare_functions(f1, f2, args):\n",
    "    start = time()\n",
    "    f1(*args)\n",
    "    end = time()\n",
    "    f1_time = end - start\n",
    "    start = time()\n",
    "    f2(*args)\n",
    "    end = time()\n",
    "    f2_time = end - start\n",
    "    return f1_time, f2_time\n",
    "\n",
    "def generate_args(func, n):\n",
    "    if func.__name__ == 'prod_non_zero_diag':\n",
    "        return (np.random.randint(low=0, high=255, size=(n, n)),)\n",
    "    elif func.__name__ == 'are_multisets_equal':\n",
    "        return (np.random.randint(low=0, high=255, size=n),\n",
    "                np.random.randint(low=0, high=255, size=n))\n",
    "    elif func.__name__ == 'max_after_zero':\n",
    "        return (np.random.randint(low=0, high=255, size=n),)\n",
    "    elif func.__name__ == 'convert_image':\n",
    "        return (np.random.randint(low=0, high=255, size=(n, n, 3)), np.random.rand(3))\n",
    "    elif func.__name__ == 'run_length_encoding':\n",
    "        return (np.random.randint(low=0, high=255, size=n),)\n",
    "    elif func.__name__ == 'pairwise_distance':\n",
    "        return (np.random.randint(low=0, high=255, size=(n, 100)),\n",
    "                np.random.randint(low=0, high=255, size=(n, 100)))"
   ]
  },
  {
   "cell_type": "code",
   "execution_count": null,
   "metadata": {},
   "outputs": [
    {
     "name": "stderr",
     "output_type": "stream",
     "text": [
      "/home/nikitos/Codes/ML2018/HW2/functions.py:8: RuntimeWarning: overflow encountered in long_scalars\n",
      "  prod *= x[i][i]\n"
     ]
    }
   ],
   "source": [
    "import matplotlib.pyplot as plt\n",
    "%matplotlib inline\n",
    "\n",
    "f, axes = plt.subplots((n_plots + 1) // 2, 2, figsize=(20, 20))\n",
    "for i in range(n_plots):\n",
    "    time_not_vectorized = []\n",
    "    time_vectorized = []\n",
    "    f_vec, f_not_vec = functions_dict['vectorized'][i], functions_dict['not_vectorized'][i]\n",
    "    for n in data_size:\n",
    "        args = generate_args(f_vec, n)\n",
    "        times = compare_functions(f_vec, f_not_vec, args)\n",
    "        time_vectorized.append(times[0])\n",
    "        time_not_vectorized.append(times[1])\n",
    "    ax = axes[i // 2, i % 2]\n",
    "    ax.plot(data_size, time_not_vectorized, label=u\"Невекторизованная \" + f_not_vec.__name__)\n",
    "    ax.plot(data_size, time_vectorized, label=u\"Векторизованная \" + f_vec.__name__)\n",
    "    ax.set_xlabel(u\"Длина массива\")\n",
    "    ax.set_ylabel(u\"Время (с)\")\n",
    "    ax.grid()\n",
    "    ax.legend()\n",
    "f.show()"
   ]
  },
  {
   "cell_type": "code",
   "execution_count": null,
   "metadata": {},
   "outputs": [],
   "source": [
    "           "
   ]
  },
  {
   "cell_type": "code",
   "execution_count": null,
   "metadata": {},
   "outputs": [],
   "source": [
    "# Your code here\n",
    "# ..."
   ]
  },
  {
   "cell_type": "markdown",
   "metadata": {},
   "source": [
    "---"
   ]
  },
  {
   "cell_type": "markdown",
   "metadata": {},
   "source": [
    "# Часть 2. Линейная регрессия"
   ]
  },
  {
   "cell_type": "code",
   "execution_count": null,
   "metadata": {},
   "outputs": [],
   "source": [
    "%pylab inline\n",
    "\n",
    "import seaborn as sns\n",
    "sns.set(style=\"whitegrid\")\n",
    "\n",
    "from sklearn import datasets\n",
    "from sklearn.model_selection import train_test_split, GridSearchCV\n",
    "from sklearn.pipeline import Pipeline\n",
    "from sklearn.linear_model import LinearRegression, Ridge, Lasso\n",
    "from sklearn.preprocessing import StandardScaler, MinMaxScaler\n",
    "import pandas as pd"
   ]
  },
  {
   "cell_type": "code",
   "execution_count": null,
   "metadata": {},
   "outputs": [],
   "source": [
    "def pairplot(df, target):\n",
    "    ncol, nrow = 7, df.shape[1] // 7 + (df.shape[1] % 7 > 0)\n",
    "    plt.figure(figsize=(ncol * 4, nrow * 4))\n",
    "\n",
    "    for i, feature in enumerate(df.columns):\n",
    "        plt.subplot(nrow, ncol, i + 1)\n",
    "        plt.scatter(df[feature], target, s=10, marker='o', alpha=.6)\n",
    "        plt.xlabel(feature)\n",
    "        if i % ncol == 0:\n",
    "            plt.ylabel('target')"
   ]
  },
  {
   "cell_type": "markdown",
   "metadata": {},
   "source": [
    "В данном задании мы рассмотрим стандартный датасет для задачи регрессии Boston Housing, в котором необходимо предсказать стоимость недвижимости по 13 признакам.\n",
    "\n",
    "Датасет достаточно просто загрузить из библиотеки scikit-learn:"
   ]
  },
  {
   "cell_type": "code",
   "execution_count": null,
   "metadata": {},
   "outputs": [],
   "source": [
    "data = datasets.load_boston()\n",
    "df = pd.DataFrame(data.data)\n",
    "df.columns = data.feature_names\n",
    "y = data.target"
   ]
  },
  {
   "cell_type": "code",
   "execution_count": null,
   "metadata": {},
   "outputs": [],
   "source": [
    "print(data['DESCR'])"
   ]
  },
  {
   "cell_type": "code",
   "execution_count": null,
   "metadata": {},
   "outputs": [],
   "source": [
    "df.head()"
   ]
  },
  {
   "cell_type": "markdown",
   "metadata": {},
   "source": [
    "Разделим выборку на обучающую и тестовую в отношении 8/2:"
   ]
  },
  {
   "cell_type": "code",
   "execution_count": null,
   "metadata": {},
   "outputs": [],
   "source": [
    "x_train, x_test, y_train, y_test = train_test_split(df, y, train_size=0.8, random_state=42)"
   ]
  },
  {
   "cell_type": "markdown",
   "metadata": {},
   "source": [
    "__Задание 1.__ Обучение линейной регрессии.\n",
    "\n",
    "**(0.5 балл)**\n",
    "\n",
    "Обучите стандартную линейную регрессию, а также с $L_1$ и $L_2$ регуляризаторами (используйте параметры по умолчанию). Посчитайте метрику $R^2$ для каждого метода (метод score)."
   ]
  },
  {
   "cell_type": "code",
   "execution_count": null,
   "metadata": {},
   "outputs": [],
   "source": [
    "#  Your code here\n",
    "# ..."
   ]
  },
  {
   "cell_type": "markdown",
   "metadata": {},
   "source": [
    "__Задание 2.__ Подбор гиперпараметров.\n",
    "\n",
    "**(1 балл)**\n",
    "\n",
    "Для Lasso- и Ridge-регресий подберите коэффициент регуляризации по обучающей выборке с помощью кросс-валидации. Параметры для перебора возьмите по логарифмической сетке от $10^{-6}$ до $10^6$).\n",
    "Также посчитайте метрику $R^2$ для тестовой выборки и сравните с предыдущими результатами. Заметно ли изменилось качество?\n",
    "\n",
    "Useful: GridSearchCV, RidgeCV, LassoCV"
   ]
  },
  {
   "cell_type": "code",
   "execution_count": null,
   "metadata": {},
   "outputs": [],
   "source": [
    "#  Your code here\n",
    "# ..."
   ]
  },
  {
   "cell_type": "markdown",
   "metadata": {},
   "source": [
    "Постройте график зависимости $R^2$ для обучающей и тестовой (на кросс-валидации) выборок в зависимости от значения гиперпараметра. Для Lasso также постройте график зависимости количества ненулевых весов."
   ]
  },
  {
   "cell_type": "code",
   "execution_count": null,
   "metadata": {},
   "outputs": [],
   "source": [
    "#  Your code here\n",
    "# ..."
   ]
  },
  {
   "cell_type": "markdown",
   "metadata": {},
   "source": [
    "В какой момент происходит недообучение? Почему?"
   ]
  },
  {
   "cell_type": "markdown",
   "metadata": {},
   "source": [
    "__Ответ__:"
   ]
  },
  {
   "cell_type": "markdown",
   "metadata": {},
   "source": [
    "---"
   ]
  },
  {
   "cell_type": "markdown",
   "metadata": {},
   "source": [
    "## Подготовка данных"
   ]
  },
  {
   "cell_type": "markdown",
   "metadata": {},
   "source": [
    "Как вы могли заметить, большого прироста качества с помощью подбора коэфициента регуляризации добиться не удалось. Поэтому прежде чем бросаться обучать модели, необходимо изучить и предобработать данные."
   ]
  },
  {
   "cell_type": "markdown",
   "metadata": {},
   "source": [
    "__Задание 3.__ Масштабирование.\n",
    "\n",
    "__(1 балл)__\n",
    "\n",
    "Зачастую признаки в сырых данных имеют разный масштаб. Попробуйте применить масштабирование к данным, сравните качество. Заметно ли изменение?\n",
    "\n",
    "Pipeline, StandardScaler, MinMaxScaler"
   ]
  },
  {
   "cell_type": "code",
   "execution_count": null,
   "metadata": {},
   "outputs": [],
   "source": [
    "#  Your code here\n",
    "# ..."
   ]
  },
  {
   "cell_type": "markdown",
   "metadata": {},
   "source": [
    "Сравните оптимальное значение коэффициента регуляризации для Ridge-регрессии до и после масштабирования. Изменилось ли оно? Предположите, почему так могло произойти."
   ]
  },
  {
   "cell_type": "code",
   "execution_count": null,
   "metadata": {},
   "outputs": [],
   "source": [
    "#  Your code here\n",
    "# ..."
   ]
  },
  {
   "cell_type": "markdown",
   "metadata": {},
   "source": [
    "__Ответ:__"
   ]
  },
  {
   "cell_type": "markdown",
   "metadata": {},
   "source": [
    "__Задание 4.__ Новые признаки.\n",
    "\n",
    "__(1.5 балла)__\n",
    "\n",
    "Полезным также бывает посмотреть как целевая переменная зависит от каждого признака."
   ]
  },
  {
   "cell_type": "code",
   "execution_count": null,
   "metadata": {},
   "outputs": [],
   "source": [
    "pairplot(x_train, y_train)"
   ]
  },
  {
   "cell_type": "markdown",
   "metadata": {},
   "source": [
    "Обратите внимение на зависимость цены от признака LSTAT. Является ли эта зависимость линейной? А какой? Попробуйте выбрать преобразование для этого признака так, чтобы получившаяся зависимость была более линейной. Добейтесь $R^2$ на тестовой выборке не меньше 0.71."
   ]
  },
  {
   "cell_type": "markdown",
   "metadata": {},
   "source": [
    "__Ответ:__"
   ]
  },
  {
   "cell_type": "markdown",
   "metadata": {},
   "source": [
    "Помимо преобразований отдельный признаков полезными бывают их попарные взаимодействия. Воспользуйтесь PolynomialFeatures, чтобы добавить попарные произведения и квадраты всех признаков. Обучите Ridge-регрессию (подберите гиперпараметр!) и посчитайте $R^2$ на тесте. Сильно ли изменилось качество?"
   ]
  },
  {
   "cell_type": "code",
   "execution_count": null,
   "metadata": {},
   "outputs": [],
   "source": [
    "#  Your code here\n",
    "# ..."
   ]
  },
  {
   "cell_type": "markdown",
   "metadata": {},
   "source": [
    "__Задание 5.__ Оптимальная архитектура, анализ.\n",
    "\n",
    "__(2 балла)__\n",
    "\n",
    "При помощи `Pipeline` и `GridSearchSCV` выберите оптимальную архитектуру, комбинируя различные методы масштабирования, степень полинома в `PolynomialFeatures`, а также регуляризаторы. Для `Lasso` поставьте максимальное количество итераций больше значения по умолчанию, чтобы оптимизация сошлась."
   ]
  },
  {
   "cell_type": "code",
   "execution_count": null,
   "metadata": {},
   "outputs": [],
   "source": [
    "#  Your code here\n",
    "# ..."
   ]
  },
  {
   "cell_type": "markdown",
   "metadata": {},
   "source": [
    "Для одной комбинаций метода масштабирования и линейной регрессии постройте зависимость метрики $R^2$ на кросс-валидации (`GridSearchCV.cv_results_['mean_test_score']`) от значения параметра регуляризации для различных степеней полиномов в `PolynomialFeatures`."
   ]
  },
  {
   "cell_type": "code",
   "execution_count": null,
   "metadata": {},
   "outputs": [],
   "source": [
    "#  Your code here\n",
    "# ..."
   ]
  },
  {
   "cell_type": "markdown",
   "metadata": {},
   "source": [
    "При каких значениях происходит переобучение? А недообучение? Почему?"
   ]
  },
  {
   "cell_type": "markdown",
   "metadata": {},
   "source": [
    "__Ответ:__"
   ]
  }
 ],
 "metadata": {
  "kernelspec": {
   "display_name": "Python 3",
   "language": "python",
   "name": "python3"
  },
  "language_info": {
   "codemirror_mode": {
    "name": "ipython",
    "version": 3
   },
   "file_extension": ".py",
   "mimetype": "text/x-python",
   "name": "python",
   "nbconvert_exporter": "python",
   "pygments_lexer": "ipython3",
   "version": "3.6.6"
  }
 },
 "nbformat": 4,
 "nbformat_minor": 2
}
