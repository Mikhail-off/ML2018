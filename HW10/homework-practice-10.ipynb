{
 "cells": [
  {
   "cell_type": "markdown",
   "metadata": {},
   "source": [
    "# Машинное обучение, ФКН ВШЭ\n",
    "## Практическое задание 10\n",
    "\n",
    "### Общая информация\n",
    "\n",
    "Дата выдачи: 22.04.2019\n",
    "\n",
    "Мягкий дедлайн: 12.05.2019 08:00 MSK\n",
    "\n",
    "Жёсткий дедлайн: 14.05.2019 23:59 MSK\n",
    "\n",
    "### Оценивание и штрафы\n",
    "\n",
    "Каждая из задач имеет определенную «стоимость», которая будет объявлена после жёсткого дедлайна. Максимально допустимая оценка за работу — 10 баллов.\n",
    "\n",
    "Сдавать задание после указанного срока сдачи нельзя. При выставлении неполного балла за задание в связи с наличием ошибок на усмотрение проверяющего предусмотрена возможность исправить работу на указанных в ответном письме условиях.\n",
    "\n",
    "Задание выполняется самостоятельно. «Похожие» решения считаются плагиатом и все задействованные студенты (в том числе те, у кого списали) не могут получить за него больше 0 баллов (подробнее о плагиате см. на странице курса). Если вы нашли решение какого-то из заданий (или его часть) в открытом источнике, необходимо указать ссылку на этот источник в отдельном блоке в конце Вашей работы (скорее всего вы будете не единственным, кто это нашел, поэтому чтобы исключить подозрение в плагиате, необходима ссылка на источник).\n",
    "\n",
    "Неэффективная реализация кода может негативно отразиться на оценке.\n",
    "\n",
    "В финальной версии ноутбука, которая отправляется для сдачи задания, должны быть быть выполнены следующие условия:\n",
    "* все ячейки выполнены для представленной в ноутбуке версии кода;\n",
    "* результаты выполнения ячеек отображены и согласованы с кодом;\n",
    "* при повторном запуске ячеек результаты должны воспроизводиться с точностью до случайности.\n",
    "\n",
    "\n",
    "### Формат сдачи\n",
    "\n",
    "Задания сдаются через систему anytask. Посылка должна содержать:\n",
    "\n",
    "* Ноутбук homework-practice-10-Username.ipynb\n",
    "\n",
    "Username — ваша фамилия и имя на латинице именно в таком порядке"
   ]
  },
  {
   "cell_type": "markdown",
   "metadata": {},
   "source": [
    "# Часть 1. Работа с данными\n"
   ]
  },
  {
   "cell_type": "markdown",
   "metadata": {},
   "source": [
    "Мы будем работать с датасетом `20newsgroups`. В датасете содержится около 20 000 статей, разбитых на 20 классов. В ячейке ниже происходит загрузка датасета:"
   ]
  },
  {
   "cell_type": "code",
   "execution_count": 21,
   "metadata": {},
   "outputs": [],
   "source": [
    "import numpy as np\n",
    "from sklearn.model_selection import train_test_split"
   ]
  },
  {
   "cell_type": "code",
   "execution_count": 22,
   "metadata": {},
   "outputs": [],
   "source": [
    "from sklearn.datasets import fetch_20newsgroups\n",
    "dataset = fetch_20newsgroups(subset='all')\n",
    "data = dataset[\"data\"]\n",
    "y = np.array(dataset[\"target\"])\n",
    "labels_names = {i: name for i, name in enumerate(dataset[\"target_names\"])}"
   ]
  },
  {
   "cell_type": "code",
   "execution_count": 23,
   "metadata": {},
   "outputs": [
    {
     "name": "stdout",
     "output_type": "stream",
     "text": [
      "Target names: alt.atheism, comp.graphics, comp.os.ms-windows.misc, comp.sys.ibm.pc.hardware, comp.sys.mac.hardware, comp.windows.x, misc.forsale, rec.autos, rec.motorcycles, rec.sport.baseball, rec.sport.hockey, sci.crypt, sci.electronics, sci.med, sci.space, soc.religion.christian, talk.politics.guns, talk.politics.mideast, talk.politics.misc, talk.religion.misc\n"
     ]
    }
   ],
   "source": [
    "print(\"Target names: \" + \", \".join(dataset[\"target_names\"]))"
   ]
  },
  {
   "cell_type": "markdown",
   "metadata": {},
   "source": [
    "Эти маски нам понадобятся позднее"
   ]
  },
  {
   "cell_type": "code",
   "execution_count": 24,
   "metadata": {},
   "outputs": [],
   "source": [
    "train_mask = (np.random.uniform(size=len(data)) < 0.2)\n",
    "test_mask = ~train_mask"
   ]
  },
  {
   "cell_type": "markdown",
   "metadata": {},
   "source": [
    "**Задание 1**. Для работы с текстами нам нужно как-то построить их признаковое описание. По-простому это можно сделать как минимум тремя способами:\n",
    "* посчитать tf-idf векторы;\n",
    "* усреднить предобученные эмбеддинги (например, Word2Vec);\n",
    "* обучить эмбеддинги самому (тот же Word2Vec) и усреднить их.\n",
    "\n",
    "Кроме того, в каждом из этих случаев можно провести [стемминг](https://en.wikipedia.org/wiki/Stemming) токенов, а можно обойтись без него. Какие плюсы и минусы есть у стемминга?\n",
    "\n",
    "В дальнейшем мы захотим обучить для этого датасета KMeans (мы надеемся, что в один кластер попадут документы с одной тематикой). Изучите датасет (его размер, размер текстов, тематики, пр.) и скажите, какие есть плюсы и минусы у каждого из трех описанных выше подходов."
   ]
  },
  {
   "cell_type": "code",
   "execution_count": 25,
   "metadata": {},
   "outputs": [],
   "source": [
    "sepLine = '\\n' + '-'*100 + '\\n'"
   ]
  },
  {
   "cell_type": "code",
   "execution_count": 26,
   "metadata": {},
   "outputs": [
    {
     "name": "stdout",
     "output_type": "stream",
     "text": [
      "Длина нашего датасета равна 18846\n"
     ]
    }
   ],
   "source": [
    "print('Длина нашего датасета равна', len(y))\n",
    "assert(len(y) == len(data))"
   ]
  },
  {
   "cell_type": "markdown",
   "metadata": {},
   "source": [
    "Посмотрим примеры текстов"
   ]
  },
  {
   "cell_type": "code",
   "execution_count": 27,
   "metadata": {},
   "outputs": [
    {
     "name": "stdout",
     "output_type": "stream",
     "text": [
      "From: Mamatha Devineni Ratnam <mr47+@andrew.cmu.edu>\n",
      "Subject: Pens fans reactions\n",
      "Organization: Post Office, Carnegie Mellon, Pittsburgh, PA\n",
      "Lines: 12\n",
      "NNTP-Posting-Host: po4.andrew.cmu.edu\n",
      "\n",
      "\n",
      "\n",
      "I am sure some bashers of Pens fans are pretty confused about the lack\n",
      "of any kind of posts about the recent Pens massacre of the Devils. Actually,\n",
      "I am  bit puzzled too and a bit relieved. However, I am going to put an end\n",
      "to non-PIttsburghers' relief with a bit of praise for the Pens. Man, they\n",
      "are killing those Devils worse than I thought. Jagr just showed you why\n",
      "he is much better than his regular season stats. He is also a lot\n",
      "fo fun to watch in the playoffs. Bowman should let JAgr have a lot of\n",
      "fun in the next couple of games since the Pens are going to beat the pulp out of Jersey anyway. I was very disappointed not to see the Islanders lose the final\n",
      "regular season game.          PENS RULE!!!\n",
      "\n",
      "\n",
      "----------------------------------------------------------------------------------------------------\n",
      "From: mblawson@midway.ecn.uoknor.edu (Matthew B Lawson)\n",
      "Subject: Which high-performance VLB video card?\n",
      "Summary: Seek recommendations for VLB video card\n",
      "Nntp-Posting-Host: midway.ecn.uoknor.edu\n",
      "Organization: Engineering Computer Network, University of Oklahoma, Norman, OK, USA\n",
      "Keywords: orchid, stealth, vlb\n",
      "Lines: 21\n",
      "\n",
      "  My brother is in the market for a high-performance video card that supports\n",
      "VESA local bus with 1-2MB RAM.  Does anyone have suggestions/ideas on:\n",
      "\n",
      "  - Diamond Stealth Pro Local Bus\n",
      "\n",
      "  - Orchid Farenheit 1280\n",
      "\n",
      "  - ATI Graphics Ultra Pro\n",
      "\n",
      "  - Any other high-performance VLB card\n",
      "\n",
      "\n",
      "Please post or email.  Thank you!\n",
      "\n",
      "  - Matt\n",
      "\n",
      "-- \n",
      "    |  Matthew B. Lawson <------------> (mblawson@essex.ecn.uoknor.edu)  |   \n",
      "  --+-- \"Now I, Nebuchadnezzar, praise and exalt and glorify the King  --+-- \n",
      "    |   of heaven, because everything he does is right and all his ways  |   \n",
      "    |   are just.\" - Nebuchadnezzar, king of Babylon, 562 B.C.           |   \n",
      "\n",
      "----------------------------------------------------------------------------------------------------\n",
      "From: hilmi-er@dsv.su.se (Hilmi Eren)\n",
      "Subject: Re: ARMENIA SAYS IT COULD SHOOT DOWN TURKISH PLANES (Henrik)\n",
      "Lines: 95\n",
      "Nntp-Posting-Host: viktoria.dsv.su.se\n",
      "Reply-To: hilmi-er@dsv.su.se (Hilmi Eren)\n",
      "Organization: Dept. of Computer and Systems Sciences, Stockholm University\n",
      "\n",
      "\n",
      "\n",
      "\n",
      "|>The student of \"regional killings\" alias Davidian (not the Davidian religios sect) writes:\n",
      "\n",
      "\n",
      "|>Greater Armenia would stretch from Karabakh, to the Black Sea, to the\n",
      "|>Mediterranean, so if you use the term \"Greater Armenia\" use it with care.\n",
      "\n",
      "\n",
      "\tFinally you said what you dream about. Mediterranean???? That was new....\n",
      "\tThe area will be \"greater\" after some years, like your \"holocaust\" numbers......\n",
      "\n",
      "\n",
      "\n",
      "\n",
      "|>It has always been up to the Azeris to end their announced winning of Karabakh \n",
      "|>by removing the Armenians! When the president of Azerbaijan, Elchibey, came to \n",
      "|>power last year, he announced he would be be \"swimming in Lake Sevan [in \n",
      "|>Armeniaxn] by July\".\n",
      "\t\t*****\n",
      "\tIs't July in USA now????? Here in Sweden it's April and still cold.\n",
      "\tOr have you changed your calendar???\n",
      "\n",
      "\n",
      "|>Well, he was wrong! If Elchibey is going to shell the \n",
      "|>Armenians of Karabakh from Aghdam, his people will pay the price! If Elchibey \n",
      "\t\t\t\t\t\t    ****************\n",
      "|>is going to shell Karabakh from Fizuli his people will pay the price! If \n",
      "\t\t\t\t\t\t    ******************\n",
      "|>Elchibey thinks he can get away with bombing Armenia from the hills of \n",
      "|>Kelbajar, his people will pay the price. \n",
      "\t\t\t    ***************\n",
      "\n",
      "\n",
      "\tNOTHING OF THE MENTIONED IS TRUE, BUT LET SAY IT's TRUE.\n",
      "\t\n",
      "\tSHALL THE AZERI WOMEN AND CHILDREN GOING TO PAY THE PRICE WITH\n",
      "\t\t\t\t\t\t    **************\n",
      "\tBEING RAPED, KILLED AND TORTURED BY THE ARMENIANS??????????\n",
      "\t\n",
      "\tHAVE YOU HEARDED SOMETHING CALLED: \"GENEVA CONVENTION\"???????\n",
      "\tYOU FACIST!!!!!\n",
      "\n",
      "\n",
      "\n",
      "\tOhhh i forgot, this is how Armenians fight, nobody has forgot\n",
      "\tyou killings, rapings and torture against the Kurds and Turks once\n",
      "\tupon a time!\n",
      "      \n",
      "       \n",
      "\n",
      "|>And anyway, this \"60 \n",
      "|>Kurd refugee\" story, as have other stories, are simple fabrications sourced in \n",
      "|>Baku, modified in Ankara. Other examples of this are Armenia has no border \n",
      "|>with Iran, and the ridiculous story of the \"intercepting\" of Armenian military \n",
      "|>conversations as appeared in the New York Times supposedly translated by \n",
      "|>somebody unknown, from Armenian into Azeri Turkish, submitted by an unnamed \n",
      "|>\"special correspondent\" to the NY Times from Baku. Real accurate!\n",
      "\n",
      "Ohhhh so swedish RedCross workers do lie they too? What ever you say\n",
      "\"regional killer\", if you don't like the person then shoot him that's your policy.....l\n",
      "\n",
      "\n",
      "|>[HE]\tSearch Turkish planes? You don't know what you are talking about.<-------\n",
      "|>[HE]\tsince it's content is announced to be weapons? \t\t\t\ti\t \n",
      "\t\t\t\t\t\t\t\t\t\ti\n",
      "|>Well, big mouth Ozal said military weapons are being provided to Azerbaijan\ti\n",
      "|>from Turkey, yet Demirel and others say no. No wonder you are so confused!\ti\n",
      "\t\t\t\t\t\t\t\t\t\ti\n",
      "\t\t\t\t\t\t\t\t\t\ti\n",
      "\tConfused?????\t\t\t\t\t\t\t\ti\n",
      "\tYou facist when you delete text don't change it, i wrote:\t\ti\n",
      "\t\t\t\t\t\t\t\t\t\ti\n",
      "        Search Turkish planes? You don't know what you are talking about.\ti\n",
      "        Turkey's government has announced that it's giving weapons  <-----------i\n",
      "        to Azerbadjan since Armenia started to attack Azerbadjan\t\t\n",
      "        it self, not the Karabag province. So why search a plane for weapons\t\n",
      "        since it's content is announced to be weapons?   \n",
      "\n",
      "\tIf there is one that's confused then that's you! We have the right (and we do)\n",
      "\tto give weapons to the Azeris, since Armenians started the fight in Azerbadjan!\n",
      " \n",
      "\n",
      "|>You are correct, all Turkish planes should be simply shot down! Nice, slow\n",
      "|>moving air transports!\n",
      "\n",
      "\tShoot down with what? Armenian bread and butter? Or the arms and personel \n",
      "\tof the Russian army?\n",
      "\n",
      "\n",
      "\n",
      "\n",
      "Hilmi Eren\n",
      "Stockholm University\n",
      "\n"
     ]
    }
   ],
   "source": [
    "print(*data[:3], sep=sepLine)"
   ]
  },
  {
   "cell_type": "markdown",
   "metadata": {},
   "source": [
    "Выведем распределение тематик"
   ]
  },
  {
   "cell_type": "code",
   "execution_count": 28,
   "metadata": {},
   "outputs": [],
   "source": [
    "import matplotlib.pyplot as plt\n",
    "%matplotlib inline\n",
    "import seaborn as sns\n",
    "from collections import Counter"
   ]
  },
  {
   "cell_type": "code",
   "execution_count": 29,
   "metadata": {},
   "outputs": [
    {
     "data": {
      "image/png": "[encoded data removed]",
      "text/plain": [
       "<Figure size 432x288 with 1 Axes>"
      ]
     },
     "metadata": {
      "needs_background": "light"
     },
     "output_type": "display_data"
    }
   ],
   "source": [
    "cnt = Counter(y)\n",
    "cnt = np.array([cnt[i] for i in range(len(cnt))])\n",
    "labels = list(labels_names[i] for i in range(len(labels_names)))\n",
    "plt.plot(np.arange(len(cnt)), cnt, 'ro')\n",
    "plt.xlabel('Class')\n",
    "plt.ylabel('Examples count')\n",
    "plt.show()"
   ]
  },
  {
   "cell_type": "markdown",
   "metadata": {},
   "source": [
    "Видим, что кол-во примеров на каждую тематику примерно одинаковое, но есть редкие темы. Например, примеров статей с классом 19 не так много."
   ]
  },
  {
   "cell_type": "code",
   "execution_count": 30,
   "metadata": {},
   "outputs": [
    {
     "name": "stdout",
     "output_type": "stream",
     "text": [
      "Среднее кол-во примеров на тему 942.3\n",
      "Классы с сильным отклонением от среднего кол-ва примеров на этот класс:\n",
      "[0, 18, 19]\n"
     ]
    }
   ],
   "source": [
    "average = cnt.mean()\n",
    "print('Среднее кол-во примеров на тему', average)\n",
    "absDeviation = np.abs(cnt - average)\n",
    "worstClasses = np.where(absDeviation > 100)[0]\n",
    "print('Классы с сильным отклонением от среднего кол-ва примеров на этот класс:', list(worstClasses), sep='\\n')"
   ]
  },
  {
   "cell_type": "markdown",
   "metadata": {},
   "source": [
    "Посмотрим на распределение размеров текстов"
   ]
  },
  {
   "cell_type": "code",
   "execution_count": 31,
   "metadata": {},
   "outputs": [
    {
     "data": {
      "text/plain": [
       "<matplotlib.axes._subplots.AxesSubplot at 0x1dafa221470>"
      ]
     },
     "execution_count": 31,
     "metadata": {},
     "output_type": "execute_result"
    },
    {
     "data": {
      "image/png": "[encoded data removed]",
      "text/plain": [
       "<Figure size 432x288 with 1 Axes>"
      ]
     },
     "metadata": {
      "needs_background": "light"
     },
     "output_type": "display_data"
    }
   ],
   "source": [
    "textSizes = np.array([len(text) for text in data])\n",
    "sns.distplot(textSizes)"
   ]
  },
  {
   "cell_type": "markdown",
   "metadata": {},
   "source": [
    "Возьмем логирифм от размеров"
   ]
  },
  {
   "cell_type": "code",
   "execution_count": 32,
   "metadata": {},
   "outputs": [
    {
     "data": {
      "text/plain": [
       "<matplotlib.axes._subplots.AxesSubplot at 0x1dafa2636d8>"
      ]
     },
     "execution_count": 32,
     "metadata": {},
     "output_type": "execute_result"
    },
    {
     "data": {
      "image/png": "[encoded data removed]",
      "text/plain": [
       "<Figure size 432x288 with 1 Axes>"
      ]
     },
     "metadata": {
      "needs_background": "light"
     },
     "output_type": "display_data"
    }
   ],
   "source": [
    "sns.distplot(np.log(textSizes))"
   ]
  },
  {
   "cell_type": "code",
   "execution_count": 33,
   "metadata": {},
   "outputs": [
    {
     "name": "stdout",
     "output_type": "stream",
     "text": [
      "Среднее кол-во символов в статье 1902.5258940889314\n"
     ]
    }
   ],
   "source": [
    "print('Среднее кол-во символов в статье', textSizes.mean())"
   ]
  },
  {
   "cell_type": "markdown",
   "metadata": {},
   "source": [
    "__*Ответ:*__\n",
    "* __TF-IDF.__\n",
    "Плюсы: прост в понимании и реализации,позволяет выделить ключевые слова в тексте\n",
    "Минусы: Требует большой выборки и затрат по памяти, не учитывает контекст, в котором употребляется слово\n",
    "\n",
    "* __Предобученные эмбеддинги.__\n",
    "Сильно зависит от выборки, на которой обучались. Если выборка имела такие же или шире тематики, то это плюс, однако в противном случае мы получим плохой результат\n",
    "\n",
    "* __Самостоятельное обучение эмбеддингов.__\n",
    "Важно правильно разлелить выборку на тренировочную и тестовую для получения положительного результата"
   ]
  },
  {
   "cell_type": "markdown",
   "metadata": {},
   "source": [
    "**Задание 2**. Удалите из текстов email-адреса, приведите все к нижнему регистру, токенизируйте тексты с помощью `gensim.parsing.preprocessing.preprocess_string` (необходимые фильтры уже были импортированы) и обучите на полученных данных `gensim.models.word2vec.Word2Vec` с параметрами по умолчанию и 30 итерациями в обучении. Дополнительно обучите еще один Word2Vec на текстах с произведенным стеммингом, используйте `nltk.stem.porter.PorterStemmer`."
   ]
  },
  {
   "cell_type": "code",
   "execution_count": 89,
   "metadata": {},
   "outputs": [
    {
     "data": {
      "text/plain": [
       "(76465419, 83900910)"
      ]
     },
     "execution_count": 89,
     "metadata": {},
     "output_type": "execute_result"
    }
   ],
   "source": [
    "from gensim.parsing.preprocessing import (\n",
    "    preprocess_string,\n",
    "    strip_tags,\n",
    "    strip_punctuation,\n",
    "    strip_multiple_whitespaces,\n",
    "    strip_numeric,\n",
    "    remove_stopwords,\n",
    ")\n",
    "from gensim.models.word2vec import Word2Vec\n",
    "from nltk.stem.porter import PorterStemmer\n",
    "import re\n",
    "\n",
    "EMAIL_REGEXP = r\"([a-zA-Z0-9_.+-]+@[a-zA-Z0-9-]+\\.[a-zA-Z0-9-.]+)\"\n",
    "FILTERS = [strip_tags, strip_punctuation, strip_multiple_whitespaces, strip_numeric, remove_stopwords]\n",
    "\n",
    "tokenized_data = ['']*len(data)\n",
    "for i in range(len(data)):\n",
    "    tokenized_data[i] = preprocess_string(re.sub(EMAIL_REGEXP, '', data[i].lower()), filters=FILTERS)\n",
    "\n",
    "stemmed_data = ['']*len(data)\n",
    "stemmer = PorterStemmer()\n",
    "for i in range(len(data)):\n",
    "    stemmed_data[i] = [stemmer.stem(word) for word in tokenized_data[i]]\n",
    "\n",
    "\n",
    "w2v = Word2Vec(tokenized_data)\n",
    "w2v.train(tokenized_data, total_examples=w2v.corpus_count, epochs=30)\n",
    "\n",
    "stemmed_w2v = Word2Vec(stemmed_data)\n",
    "stemmed_w2v.train(stemmed_data, total_examples=stemmed_w2v.corpus_count, epochs=30)\n"
   ]
  },
  {
   "cell_type": "code",
   "execution_count": 97,
   "metadata": {},
   "outputs": [
    {
     "name": "stdout",
     "output_type": "stream",
     "text": [
      "['mamatha', 'devineni', 'ratnam', 'subject', 'pens', 'fans', 'reactions', 'organization', 'post', 'office', 'carnegie', 'mellon', 'pittsburgh', 'pa', 'lines', 'nntp', 'posting', 'host', 'po', 'andrew', 'cmu', 'edu', 'sure', 'bashers', 'pens', 'fans', 'pretty', 'confused', 'lack', 'kind', 'posts', 'recent', 'pens', 'massacre', 'devils', 'actually', 'bit', 'puzzled', 'bit', 'relieved', 'going', 'end', 'non', 'pittsburghers', 'relief', 'bit', 'praise', 'pens', 'man', 'killing', 'devils', 'worse', 'thought', 'jagr', 'showed', 'better', 'regular', 'season', 'stats', 'lot', 'fo', 'fun', 'watch', 'playoffs', 'bowman', 'let', 'jagr', 'lot', 'fun', 'couple', 'games', 'pens', 'going', 'beat', 'pulp', 'jersey', 'disappointed', 'islanders', 'lose', 'final', 'regular', 'season', 'game', 'pens', 'rule']\n"
     ]
    }
   ],
   "source": [
    "print(tokenized_data[0])\n"
   ]
  },
  {
   "cell_type": "code",
   "execution_count": null,
   "metadata": {},
   "outputs": [],
   "source": []
  },
  {
   "cell_type": "markdown",
   "metadata": {},
   "source": [
    "Напишите функцию, которая принимала бы на вход токенизированные тексты и для каждого текста возвращала бы усредненный эмбеддинг токенов. Если для какого-то токена в модели нет эмбеддинга, считайте его равным нулевому вектору."
   ]
  },
  {
   "cell_type": "code",
   "execution_count": 103,
   "metadata": {},
   "outputs": [],
   "source": [
    "def average_embedding(texts, embedder):\n",
    "    '''\n",
    "    texts -- список из списков токенов (каждый вложенный список соответствует тексту)\n",
    "    embedder -- объект с полем wv, у которого определен оператор [], и с полем vector_size\n",
    "    return: матрица усредненных эмбеддингов\n",
    "    '''\n",
    "    matrix = np.zeros((len(texts), embedder.vector_size))\n",
    "    for i in range(len(texts)):\n",
    "        toEmbed = list(filter(lambda x: x in embedder.wv, texts[i]))\n",
    "        matrix[i] = embedder.wv[toEmbed].mean(axis=0)\n",
    "    \n",
    "    return matrix"
   ]
  },
  {
   "cell_type": "markdown",
   "metadata": {},
   "source": [
    "Воспользуйтесь этой функцией, чтобы составить матрицу средних word2vec-эмбеддингов для наших текстов."
   ]
  },
  {
   "cell_type": "code",
   "execution_count": 254,
   "metadata": {},
   "outputs": [],
   "source": [
    "w2v_embed = average_embedding(tokenized_data, w2v)\n",
    "w2v_embed_stem = average_embedding(stemmed_data, stemmed_w2v)"
   ]
  },
  {
   "cell_type": "markdown",
   "metadata": {},
   "source": [
    "**Задание 3 (бонус, 0.5 баллов)**. Классической рекламой Word2Vec является \"осмысленность арифметических действий\" над эмбеддингами: утверждается, например, что $\\text{embedding(king)} - \\text{embedding(man)} + \\text{embedding(woman)} \\approx \\text{embedding(queen)}$. Можете попробовать поискать такие отношения в вашей обученной модели. Получилось ли у вас что-нибудь найти? Подсказка: воспользуйтесь `w2v.wv.similar_by_vector`"
   ]
  },
  {
   "cell_type": "code",
   "execution_count": 127,
   "metadata": {},
   "outputs": [],
   "source": [
    "def search_logic(main_word, sub_feature, add_feature):\n",
    "    approx_embed = stemmed_w2v.wv[main_word] - stemmed_w2v.wv[sub_feature] + stemmed_w2v.wv[add_feature]\n",
    "    print(*stemmed_w2v.wv.similar_by_vector(approx_embed), sep='\\n')\n",
    "def add_words(first, second):\n",
    "    print(*stemmed_w2v.wv.similar_by_vector(stemmed_w2v.wv[first] + stemmed_w2v.wv[second]), sep='\\n')"
   ]
  },
  {
   "cell_type": "code",
   "execution_count": 122,
   "metadata": {},
   "outputs": [
    {
     "name": "stdout",
     "output_type": "stream",
     "text": [
      "('brother', 0.8031144142150879)\n",
      "('sister', 0.6429882645606995)\n",
      "('daughter', 0.5626758337020874)\n",
      "('husband', 0.5519517660140991)\n",
      "('wife', 0.5362840890884399)\n",
      "('woman', 0.5306712985038757)\n",
      "('marina', 0.47030168771743774)\n",
      "('widow', 0.4596524238586426)\n",
      "('raisa', 0.45940351486206055)\n",
      "('wive', 0.4537983238697052)\n"
     ]
    }
   ],
   "source": [
    "search_logic('brother', 'man', 'woman')"
   ]
  },
  {
   "cell_type": "code",
   "execution_count": 126,
   "metadata": {},
   "outputs": [
    {
     "name": "stdout",
     "output_type": "stream",
     "text": [
      "('mother', 0.6667208671569824)\n",
      "('man', 0.6160860061645508)\n",
      "('redempt', 0.42141345143318176)\n",
      "('father', 0.41854241490364075)\n",
      "('thi', 0.40548714995384216)\n",
      "('hath', 0.40286365151405334)\n",
      "('begotten', 0.395502507686615)\n",
      "('pharaoh', 0.38861003518104553)\n",
      "('servant', 0.3877333998680115)\n",
      "('gift', 0.37459298968315125)\n"
     ]
    }
   ],
   "source": [
    "search_logic('mother', 'woman', 'man')"
   ]
  },
  {
   "cell_type": "code",
   "execution_count": 136,
   "metadata": {},
   "outputs": [
    {
     "name": "stdout",
     "output_type": "stream",
     "text": [
      "('man', 0.9365715384483337)\n",
      "('woman', 0.5619356036186218)\n",
      "('throne', 0.44431835412979126)\n",
      "('god', 0.43140268325805664)\n",
      "('parabl', 0.4210812449455261)\n",
      "('almighti', 0.4205116033554077)\n",
      "('crude', 0.41728025674819946)\n",
      "('romant', 0.4151276648044586)\n",
      "('supernatur', 0.41155582666397095)\n",
      "('wicked', 0.41153231263160706)\n"
     ]
    }
   ],
   "source": [
    "add_words('computer', 'man')"
   ]
  },
  {
   "cell_type": "markdown",
   "metadata": {},
   "source": [
    "*Осмысленность можно увидеть даже тут: человек с компьютером -- бог*"
   ]
  },
  {
   "cell_type": "markdown",
   "metadata": {},
   "source": [
    "Некая логика видна и тут: хакер без преступления -- программист в майкрософт"
   ]
  },
  {
   "cell_type": "markdown",
   "metadata": {},
   "source": [
    "**Задание 4**. В дальнейшем нам понадобится уметь считать качество кластеризации, будем использовать supervised-метрики. Напишите функцию, вычисляющую BCubed-precision, BCubed-recall и BCubed-F1"
   ]
  },
  {
   "cell_type": "code",
   "execution_count": 182,
   "metadata": {},
   "outputs": [],
   "source": [
    "def bcubed_metrics(labels, clusters):\n",
    "    '''\n",
    "    labels -- настоящие метки документов\n",
    "    clusters -- соответственно, кластеры для документов\n",
    "    return: precision, recall, f1\n",
    "    '''\n",
    "    cluster_result = clusters[:, np.newaxis] == clusters[np.newaxis, :]\n",
    "    precision = 0\n",
    "    recall = 0\n",
    "    n_labels = len(labels)\n",
    "    cnt = Counter(labels)\n",
    "    for i in range(n_labels):\n",
    "        cluster_ind = cluster_result[i]\n",
    "        label = labels[i]\n",
    "        in_one_clusster_same = (labels[cluster_ind] == label).sum()\n",
    "        cluster_size = cluster_ind.sum()\n",
    "        \n",
    "        precision += in_one_clusster_same / cluster_size / n_labels\n",
    "        recall += in_one_clusster_same / cnt[label] / n_labels\n",
    "    \n",
    "    return precision, recall, 2 * precision * recall / (precision + recall)\n",
    "        \n",
    "    "
   ]
  },
  {
   "cell_type": "markdown",
   "metadata": {},
   "source": [
    "Чтобы понимать, насколько плохой/хорошей получилась кластеризация, нужно как минимум понимать, насколько она лучше случайной кластеризации. Случайно кластеризуйте объекты и посчитайте метрики."
   ]
  },
  {
   "cell_type": "code",
   "execution_count": 185,
   "metadata": {},
   "outputs": [
    {
     "data": {
      "text/plain": [
       "(0.051305113978861526, 0.053495601916636305, 0.05237746575009294)"
      ]
     },
     "execution_count": 185,
     "metadata": {},
     "output_type": "execute_result"
    }
   ],
   "source": [
    "rand_cluster = np.random.randint(0, len(labels) - 1, size=len(y))\n",
    "bcubed_metrics(y, rand_cluster)"
   ]
  },
  {
   "cell_type": "markdown",
   "metadata": {},
   "source": [
    "Напишите функцию, которая рисовала бы график распределения меток в каждом из кластеров, например, как на картинке.\n",
    "<img src=\"example.png\" align=\"center\">"
   ]
  },
  {
   "cell_type": "code",
   "execution_count": 250,
   "metadata": {},
   "outputs": [],
   "source": [
    "def plot_labels_distribution(labels, clusters, labels_names):\n",
    "    '''\n",
    "    labels -- настоящие классы документов\n",
    "    clusters -- соответственно, кластеры для документов\n",
    "    labels_names -- словарь, сопоставляющий индексу класса его название\n",
    "    '''\n",
    "    plt.figure(figsize=(12, 6))\n",
    "    unique_clusters = np.unique(clusters) \n",
    "    unique_classes = np.unique(labels)\n",
    "    n_classes = len(unique_classes)\n",
    "    n_clusters = len(unique_clusters)\n",
    "    dist_matrix = np.zeros((n_classes, n_clusters))\n",
    "    \n",
    "    for j, cluster in enumerate(unique_clusters):\n",
    "        cluster_inds = clusters == cluster\n",
    "        cluster_elems = labels[cluster_inds]\n",
    "        cnt = Counter(cluster_elems)\n",
    "        cluster_size = len(cluster_elems)\n",
    "        for i in range(n_classes):\n",
    "            dist_matrix[i, j] = cnt[i] / cluster_size\n",
    "    \n",
    "    below_th = np.zeros((n_clusters))\n",
    "    for i, class_ind in enumerate(unique_classes):\n",
    "        plt.bar(np.arange(n_clusters), dist_matrix[i], label=labels_names[class_ind], bottom=below_th)\n",
    "        below_th += dist_matrix[i]\n",
    "    \n",
    "    plt.title(\"Labels distribution in cluster\")\n",
    "    plt.xlabel(\"Cluster\")\n",
    "    plt.ylim((0, 1))\n",
    "    plt.legend(bbox_to_anchor=(1.1, 1))\n",
    "    plt.xticks(np.arange(n_clusters))\n",
    "    plt.show()"
   ]
  },
  {
   "cell_type": "code",
   "execution_count": 251,
   "metadata": {},
   "outputs": [
    {
     "data": {
      "image/png": "[encoded data removed]",
      "text/plain": [
       "<Figure size 864x432 with 1 Axes>"
      ]
     },
     "metadata": {
      "needs_background": "light"
     },
     "output_type": "display_data"
    }
   ],
   "source": [
    "plot_labels_distribution(y, rand_cluster, labels_names)"
   ]
  },
  {
   "cell_type": "markdown",
   "metadata": {},
   "source": [
    "# Часть 2. Кластеризация"
   ]
  },
  {
   "cell_type": "markdown",
   "metadata": {},
   "source": [
    "**Задание 5**. Обучите на усредненных word2vec-векторах (и для текстов со стеммингом, и без него) KMeans на 20 кластеров (с параметрами по умолчанию), измерьте качество кластеризации (BCubed-метрики) и постройте график распределения меток по кластерам. Попробуйте поперебирать параметры KMeans, не меняя число кластеров. Получилось ли у вас добиться сильного выигрыша?"
   ]
  },
  {
   "cell_type": "code",
   "execution_count": 247,
   "metadata": {},
   "outputs": [],
   "source": [
    "from sklearn.cluster import KMeans"
   ]
  },
  {
   "cell_type": "code",
   "execution_count": 253,
   "metadata": {},
   "outputs": [
    {
     "name": "stdout",
     "output_type": "stream",
     "text": [
      "Bcube metrics: (0.336311441893329, 0.3341904617293614, 0.3352475971923414)\n"
     ]
    },
    {
     "data": {
      "image/png": "[encoded data removed]",
      "text/plain": [
       "<Figure size 864x432 with 1 Axes>"
      ]
     },
     "metadata": {
      "needs_background": "light"
     },
     "output_type": "display_data"
    }
   ],
   "source": [
    "kmeans = KMeans(n_clusters=20, random_state=42).fit(w2v_embed)\n",
    "\n",
    "print(\"Bcube metrics:\", bcubed_metrics(y, kmeans.labels_))\n",
    "      \n",
    "plot_labels_distribution(y, kmeans.labels_, labels_names)"
   ]
  },
  {
   "cell_type": "code",
   "execution_count": 256,
   "metadata": {},
   "outputs": [
    {
     "name": "stdout",
     "output_type": "stream",
     "text": [
      "Algorithm: auto Max iter: 100\n",
      "Bcube metrics: (0.33630912097562693, 0.3342397530273886, 0.3352712438832496)\n",
      "\n",
      "----------------------------------------------------------------------------------------------------\n",
      "\n",
      "Algorithm: auto Max iter: 200\n",
      "Bcube metrics: (0.336311441893329, 0.3341904617293614, 0.3352475971923414)\n",
      "\n",
      "----------------------------------------------------------------------------------------------------\n",
      "\n",
      "Algorithm: auto Max iter: 400\n",
      "Bcube metrics: (0.336311441893329, 0.3341904617293614, 0.3352475971923414)\n",
      "\n",
      "----------------------------------------------------------------------------------------------------\n",
      "\n",
      "Algorithm: elkan Max iter: 100\n",
      "Bcube metrics: (0.33630912097562693, 0.3342397530273886, 0.3352712438832496)\n",
      "\n",
      "----------------------------------------------------------------------------------------------------\n",
      "\n",
      "Algorithm: elkan Max iter: 200\n",
      "Bcube metrics: (0.336311441893329, 0.3341904617293614, 0.3352475971923414)\n",
      "\n",
      "----------------------------------------------------------------------------------------------------\n",
      "\n",
      "Algorithm: elkan Max iter: 400\n",
      "Bcube metrics: (0.336311441893329, 0.3341904617293614, 0.3352475971923414)\n",
      "\n",
      "----------------------------------------------------------------------------------------------------\n",
      "\n"
     ]
    }
   ],
   "source": [
    "algorithm = [\"auto\", \"elkan\"]\n",
    "max_iter = [100, 200, 400]\n",
    "\n",
    "\n",
    "for algo in algorithm:\n",
    "    for i in max_iter:\n",
    "        print(\"Algorithm:\", algo, \"Max iter:\", i)\n",
    "        \n",
    "        kmeans = KMeans(n_clusters=20, random_state=42, algorithm=algo, max_iter=i).fit(w2v_embed)\n",
    "        print(\"Bcube metrics:\", bcubed_metrics(y, kmeans.labels_))\n",
    "        \n",
    "        print(sepLine)"
   ]
  },
  {
   "cell_type": "code",
   "execution_count": 257,
   "metadata": {},
   "outputs": [
    {
     "name": "stdout",
     "output_type": "stream",
     "text": [
      "Parameters\n",
      "\tAlgorithm: auto Max iter: 100\n",
      "Bcube metrics: (0.34443000161251747, 0.3211249678336596, 0.3323694608750466)\n",
      "\n",
      "----------------------------------------------------------------------------------------------------\n",
      "\n",
      "Parameters\n",
      "\tAlgorithm: auto Max iter: 200\n",
      "Bcube metrics: (0.34429536718438836, 0.3209911458173052, 0.33223509646534893)\n",
      "\n",
      "----------------------------------------------------------------------------------------------------\n",
      "\n",
      "Parameters\n",
      "\tAlgorithm: auto Max iter: 400\n",
      "Bcube metrics: (0.34429536718438836, 0.3209911458173052, 0.33223509646534893)\n",
      "\n",
      "----------------------------------------------------------------------------------------------------\n",
      "\n",
      "Parameters\n",
      "\tAlgorithm: elkan Max iter: 100\n",
      "Bcube metrics: (0.34443000161251747, 0.3211249678336596, 0.3323694608750466)\n",
      "\n",
      "----------------------------------------------------------------------------------------------------\n",
      "\n",
      "Parameters\n",
      "\tAlgorithm: elkan Max iter: 200\n",
      "Bcube metrics: (0.34429536718438836, 0.3209911458173052, 0.33223509646534893)\n",
      "\n",
      "----------------------------------------------------------------------------------------------------\n",
      "\n",
      "Parameters\n",
      "\tAlgorithm: elkan Max iter: 400\n",
      "Bcube metrics: (0.34429536718438836, 0.3209911458173052, 0.33223509646534893)\n",
      "\n",
      "----------------------------------------------------------------------------------------------------\n",
      "\n"
     ]
    }
   ],
   "source": [
    "algorithm = [\"auto\", \"elkan\"]\n",
    "max_iter = [100, 200, 400]\n",
    "\n",
    "\n",
    "for algo in algorithm:\n",
    "    for i in max_iter:\n",
    "        print('Parameters')\n",
    "        print(\"\\tAlgorithm:\", algo, \"Max iter:\", i)\n",
    "        kmeans = KMeans(n_clusters=20, random_state=42, algorithm=algo, max_iter=i).fit(w2v_embed_stem)\n",
    "        print(\"Bcube metrics:\", bcubed_metrics(y, kmeans.labels_))\n",
    "        \n",
    "        print(sepLine)"
   ]
  },
  {
   "cell_type": "markdown",
   "metadata": {},
   "source": [
    "Помог ли стемминг улучшить качество кластеризации? Насколько сильно?\n",
    "\n",
    "**_Ответ_**:\n",
    "Нет, F-мера осталась прежней\n",
    "\n",
    "Все следующие эксперименты проводите на текстах без стемминга. "
   ]
  },
  {
   "cell_type": "markdown",
   "metadata": {},
   "source": [
    "**Задание 6**. Скорее всего, выигрыш оказался очень маленьким. Возможно, в усредненных word2vec-векторах содержится слишком мало информации, и этим объясняется низкое качество модели? Чтобы проверить это, обучите логистическую регрессию на предсказание настоящих меток документов. Для разбиения на обучающую и тестовую выборки воспользуйтесь масками `train_mask`, `test_mask`. Измерьте BCubed-метрики на тестовой части для кластеризации и логистической регрессии. Для кластеризации также постройте график распределения меток по кластерам."
   ]
  },
  {
   "cell_type": "code",
   "execution_count": null,
   "metadata": {},
   "outputs": [],
   "source": [
    "from sklearn.linear_model import LogisticRegression\n",
    "x_train = np.array(data)[train_mask]\n",
    "y_train = y[train_mask]\n",
    "\n",
    "print(\"Train data defined\")\n",
    "\n",
    "processed_data_train = [preprocess_string(text, CUSTOM_FILTERS) for text in data_train] \n",
    "w2v_train = Word2Vec(processed_data_train, iter=iterations)\n",
    "w2v_vectors_train = average_embedding(processed_data_train, w2v_train)\n",
    "w2v_vectors_train = average_embedding(processed_data_train, w2v_train)\n",
    "\n",
    "print(\"Train W2V model done\")\n",
    "\n",
    "clf = LogisticRegression(random_state=0, solver='lbfgs', multi_class='multinomial').fit(w2v_vectors_train, y_train)\n",
    "\n",
    "print(\"Clf trained\")\n",
    "\n",
    "data_test = np.array(data)[test_mask]\n",
    "y_test = y[test_mask]    \n",
    "\n",
    "print(\"Test data defined\")\n",
    "\n",
    "processed_data_test = [preprocess_string(text, CUSTOM_FILTERS) for text in data_test] \n",
    "w2v_test = Word2Vec(processed_data_test, iter=iterations)\n",
    "w2v_vectors_test = average_embedding(processed_data_test, w2v_test)\n",
    "\n",
    "print(\"Test W2V model done\")"
   ]
  },
  {
   "cell_type": "markdown",
   "metadata": {},
   "source": [
    "Посмотрите на размер кластеров. Сильно ли они отличаются друг от друга? Есть ли очень большие или очень маленькие кластеры?"
   ]
  },
  {
   "cell_type": "code",
   "execution_count": null,
   "metadata": {},
   "outputs": [],
   "source": [
    "# Your code here"
   ]
  },
  {
   "cell_type": "markdown",
   "metadata": {},
   "source": [
    "Можно ли объяснить плохую кластеризацию тем, что усредненный Word2Vec - слишком плохое признаковое пространство? Если такого утверждения сделать нельзя, дело может быть в слишком похожих метках документов. Попробуйте оставить в выборках только документы с 7 сильно отличающимися классами. Обучите KMeans и логистическую регрессию на этих данных; изменился ли зазор между кластеризацией и классификацией?"
   ]
  },
  {
   "cell_type": "code",
   "execution_count": null,
   "metadata": {},
   "outputs": [],
   "source": [
    "distinct_labels = {\n",
    "    \"comp.graphics\", \"rec.autos\", \"rec.sport.baseball\",\n",
    "    \"sci.space\", \"sci.med\", \"soc.religion.christian\", \"talk.politics.guns\"\n",
    "}\n",
    "\n",
    "# Your code here"
   ]
  },
  {
   "cell_type": "markdown",
   "metadata": {},
   "source": [
    "Ответьте на вопросы:\n",
    "1. Судя по графикам, какие классы сложно отделяются от других? Какие классы похожи друг на друга? Какие классы легко отделяются от других?\n",
    "2. Возросли ли метрики у кластеризации при отборе 7 отличных друг от друга меток?\n",
    "3. Возросли ли метрики у классификации при отборе 7 отличных друг от друга меток? Почему?\n",
    "4. Можно ли объяснить плохую кластеризацию неудачным признаковым пространством? Схожестью меток?"
   ]
  },
  {
   "cell_type": "markdown",
   "metadata": {},
   "source": [
    "**_Ответ:_**"
   ]
  },
  {
   "cell_type": "markdown",
   "metadata": {},
   "source": [
    "# Часть 3. Latent Dirichlet Allocation"
   ]
  },
  {
   "cell_type": "markdown",
   "metadata": {},
   "source": [
    "**Задание 7**. Обучать LDA на тех текстах, которые мы сейчас имеем, - очень медленно, поскольку в них очень много уникальных слов. Чтобы это исправить, мы оставим в текстах только те слова, которые чаще всего встречаются в нашем корпусе. Напишите функцию, которая принимает на вход тексты и количество слов, которые нужно оставить, и выкидывает слова, которые не попали в _глобальный_ топ по всему корпусу:"
   ]
  },
  {
   "cell_type": "code",
   "execution_count": null,
   "metadata": {},
   "outputs": [],
   "source": [
    "from collections import Counter\n",
    "\n",
    "def leave_top_words(texts, n_words):\n",
    "    '''\n",
    "    texts -- набор текстов (список списков токенов)\n",
    "    n_words -- сколько слов из топа нужно оставить\n",
    "    return: набор текстов с удаленными словами, которые не вошли в топ\n",
    "    '''\n",
    "    \n",
    "    # Your code here"
   ]
  },
  {
   "cell_type": "markdown",
   "metadata": {},
   "source": [
    "Сделайте два набора текстов: в одном оставьте 3000 слов, а в другом 6000 слов."
   ]
  },
  {
   "cell_type": "code",
   "execution_count": null,
   "metadata": {},
   "outputs": [],
   "source": [
    "# Your code here"
   ]
  },
  {
   "cell_type": "markdown",
   "metadata": {},
   "source": [
    "Обучите `gensim.models.ldamodel.LdaModel` (для этого вам также понадобится `gensim.corpora.Dictionary`) с 20 темами на обоих наборах текстов."
   ]
  },
  {
   "cell_type": "code",
   "execution_count": null,
   "metadata": {},
   "outputs": [],
   "source": [
    "from gensim.corpora import Dictionary\n",
    "from gensim.models.ldamodel import LdaModel\n",
    "\n",
    "# Your code here"
   ]
  },
  {
   "cell_type": "markdown",
   "metadata": {},
   "source": [
    "Метод `inference` в LDA возвращает для каждого текста вероятности тем. Напишите функцию, которая принимала бы обученную LDA-модель и корпус, возвращая самый вероятный топик для каждого текста. Убедитесь, что разница в качестве (по BCubed) между наборами на 3000 и 6000 слов незначительна. Это будет означать, что можно работать с набором на 3000 слов."
   ]
  },
  {
   "cell_type": "code",
   "execution_count": null,
   "metadata": {},
   "outputs": [],
   "source": [
    "def get_topics(lda_model, corpus):\n",
    "    '''\n",
    "    lda_model -- обученный инстанс LdaModel\n",
    "    corpus -- корпус\n",
    "    return: наиболее вероятный топик для каждого текста из корпуса\n",
    "    '''\n",
    "    \n",
    "    # Your code here"
   ]
  },
  {
   "cell_type": "markdown",
   "metadata": {},
   "source": [
    "**Задание 8**. Попытайтесь выбить из LDA больше качества. Для этого переберите по полной квадратной сетке параметры `iterations` и `num_passes` (скажем, по сетке 3х3, не стоит ставить слишком большие значения). Для каждой модели посчитайте ELBO и bcubed-метрики и сохраните их: они нам понадобятся в дальнейшем. Постройте графики зависимости ELBO от `iterations` при разных `num_passes` (3 кривые на одном графике) и наоборот."
   ]
  },
  {
   "cell_type": "code",
   "execution_count": null,
   "metadata": {},
   "outputs": [],
   "source": [
    "# Your code here"
   ]
  },
  {
   "cell_type": "markdown",
   "metadata": {},
   "source": [
    "Постройте график зависимости BCubed-F1 от ELBO. Для лучшей (по BCubed-F1) LDA-модели постройте график распределения меток в кластерах."
   ]
  },
  {
   "cell_type": "code",
   "execution_count": null,
   "metadata": {},
   "outputs": [],
   "source": [
    "# Your code here"
   ]
  },
  {
   "cell_type": "markdown",
   "metadata": {},
   "source": [
    "Ответьте на вопросы:\n",
    "1. Посмотрите на размер кластеров в LDA. Сильно ли они отличаются друг от друга? Есть ли очень большие или очень маленькие кластеры?\n",
    "2. Как влияют на ELBO `iterations` и `passes`? \n",
    "3. Есть ли какая-нибудь зависимость между ELBO и BCubed-F1? Можем ли мы обучать LDA, смотря только на ELBO?\n",
    "4. Сравните тематическое моделирование при помощи LDA и кластеризацию при помощи KMeans."
   ]
  },
  {
   "cell_type": "markdown",
   "metadata": {},
   "source": [
    "**Задание 9**. С помощью `pyLDAvis.gensim` визуализируйте найденные моделью темы и попытайтесь описать некоторые из них."
   ]
  },
  {
   "cell_type": "code",
   "execution_count": null,
   "metadata": {},
   "outputs": [],
   "source": [
    "# Your code here"
   ]
  },
  {
   "cell_type": "markdown",
   "metadata": {},
   "source": [
    "# Часть 4. Три подхода к обучению"
   ]
  },
  {
   "cell_type": "markdown",
   "metadata": {},
   "source": [
    "**Задание 10**. Вы обучили две unsupervised-модели и, скорее всего, не получили очень хорошего качества. Более того, вы попытались обучить логистическую регрессию на небольшом количестве размеченных данных и, скорее всего, получили качество заметно лучше. Попробуйте теперь обучить логистическую регрессию на tf-idf векторах. Сравните качество с логистической регрессией на усредненных word2vec-векторах. Для разбиения на обучающую и тестовую выборки пользуйтесь масками `train_mask` и `test_mask`."
   ]
  },
  {
   "cell_type": "code",
   "execution_count": null,
   "metadata": {},
   "outputs": [],
   "source": [
    "# Your code here"
   ]
  },
  {
   "cell_type": "markdown",
   "metadata": {},
   "source": [
    "Попробуем применить semi-supervised подход. На тех же данных примените self-training метод, в основе которого лежит логистическая регресиия. Напомним, что это означает:\n",
    "\n",
    "1. Обучаем модель на размеченной выборке;\n",
    "2. Применяем модель к неразмеченной выборке, выбираем некоторое количество объектов, в которых модель уверена больше всего. Добавляем к размеченной выборке эти объекты, присваивая им метки, которые предсказала модель;\n",
    "3. Повторяем несколько раз.\n",
    "\n",
    "В качестве неразмеченной части возьмите тестовую выборку. Посчитайте метрики"
   ]
  },
  {
   "cell_type": "code",
   "execution_count": null,
   "metadata": {},
   "outputs": [],
   "source": [
    "# Your code here"
   ]
  },
  {
   "cell_type": "markdown",
   "metadata": {},
   "source": [
    "Ответьте на вопросы:\n",
    "1. Как методы ранжируются по итоговому качеству? Почему именно так?\n",
    "2. На каком признаковом пространстве логистическая регрессия дает лучшее качество? Почему?\n",
    "\n",
    "**_Ответ_**:"
   ]
  }
 ],
 "metadata": {
  "kernelspec": {
   "display_name": "Python 3",
   "language": "python",
   "name": "python3"
  },
  "language_info": {
   "codemirror_mode": {
    "name": "ipython",
    "version": 3
   },
   "file_extension": ".py",
   "mimetype": "text/x-python",
   "name": "python",
   "nbconvert_exporter": "python",
   "pygments_lexer": "ipython3",
   "version": "3.6.8"
  }
 },
 "nbformat": 4,
 "nbformat_minor": 2
}
